{
 "cells": [
  {
   "cell_type": "markdown",
   "id": "94dfe75a",
   "metadata": {},
   "source": [
    "# Assignment Part 1: Custom Exception and 2D Array CSV Handling\n"
   ]
  },
  {
   "cell_type": "code",
   "execution_count": null,
   "id": "dc32a719",
   "metadata": {},
   "outputs": [
    {
     "name": "stdout",
     "output_type": "stream",
     "text": [
      "Original 2D Array:\n",
      " [[43 11 88 81 99]\n",
      " [71 22 39  2 59]\n",
      " [53  7 22 76 12]\n",
      " [76  6 32 22  1]]\n",
      "\n",
      "Array successfully written to CSV.\n",
      "\n",
      "Read from CSV:\n",
      " [[43 11 88 81 99]\n",
      " [71 22 39  2 59]\n",
      " [53  7 22 76 12]\n",
      " [76  6 32 22  1]]\n"
     ]
    }
   ],
   "source": [
    "\n",
    "import numpy as np\n",
    "import pandas as pd\n",
    "\n",
    "class InvalidArrayShapeError(Exception):\n",
    "    def __init__(self, message=\"Array shape is not valid for this operation.\"):\n",
    "        self.message = message\n",
    "        super().__init__(self.message)\n",
    "\n",
    "array_2d = np.random.randint(1, 100, size=(4, 5))\n",
    "print(\"Original 2D Array:\\n\", array_2d)\n",
    "\n",
    "try:\n",
    "    if len(array_2d.shape) != 2:\n",
    "        raise InvalidArrayShapeError(\"Expected a 2D array, got something else.\")\n",
    "    \n",
    "    df_array = pd.DataFrame(array_2d)\n",
    "    df_array.to_csv(\"array_data.csv\", index=False)\n",
    "    print(\"\\nArray successfully written to CSV.\")\n",
    "\n",
    "except InvalidArrayShapeError as e:\n",
    "    print(\"Custom Exception Caught:\", e)\n",
    "\n",
    "try:\n",
    "    df_loaded = pd.read_csv(\"array_data.csv\")\n",
    "    print(\"\\nRead from CSV:\\n\", df_loaded.values)\n",
    "except FileNotFoundError:\n",
    "    print(\"CSV file not found.\")\n"
   ]
  },
  {
   "cell_type": "markdown",
   "id": "9a0cfe44",
   "metadata": {},
   "source": [
    "#  Part 2: NumPy Assignment Solutions \n",
    "\n",
    "##  Task 1: Creating Arrays"
   ]
  },
  {
   "cell_type": "code",
   "execution_count": null,
   "id": "e47e462b",
   "metadata": {},
   "outputs": [
    {
     "name": "stdout",
     "output_type": "stream",
     "text": [
      "1D Array:\n",
      " [ 1  2  3  4  5  6  7  8  9 10]\n",
      "\n",
      "2D Array:\n",
      " [[1 2 3]\n",
      " [4 5 6]\n",
      " [7 8 9]]\n",
      "\n",
      "3D Array:\n",
      " [[[7.79666514e-01 1.44850568e-01 6.26602256e-01]\n",
      "  [4.52140254e-01 7.84664536e-01 9.74395745e-01]\n",
      "  [2.58301165e-01 9.34523347e-01 9.22315819e-01]\n",
      "  [2.69435904e-01 1.44168849e-01 5.08586151e-01]\n",
      "  [3.86202472e-01 2.83160178e-01 7.70713379e-01]]\n",
      "\n",
      " [[8.64557882e-02 5.48204819e-01 9.22368389e-01]\n",
      "  [9.24059907e-02 5.83779396e-01 6.65079522e-01]\n",
      "  [8.78928380e-01 9.97536440e-01 3.41354228e-01]\n",
      "  [6.45608196e-01 3.36384553e-04 7.16249061e-01]\n",
      "  [6.19577261e-01 6.28105139e-01 5.14765667e-01]]\n",
      "\n",
      " [[9.32174130e-01 2.05140427e-01 8.20732810e-01]\n",
      "  [4.86260465e-01 5.67281581e-02 3.24014825e-01]\n",
      "  [3.40514614e-01 3.52603411e-01 2.29086799e-01]\n",
      "  [9.64820552e-01 3.59519771e-01 1.31562521e-01]\n",
      "  [4.06075936e-01 4.91940391e-01 8.42888260e-01]]]\n",
      "\n",
      "Shapes: (10,) (3, 3) (3, 5, 3)\n",
      "Sizes: 10 9 45\n",
      "Data Types: int32 int32 float64\n"
     ]
    }
   ],
   "source": [
    "\n",
    "import numpy as np\n",
    "\n",
    "# Creating a 1D array of integers from 1 to 10\n",
    "arr1d = np.arange(1, 11)\n",
    "print(\"1D Array:\\n\", arr1d)\n",
    "\n",
    "# Creating a 2D array of shape (3, 3) with values 1 to 9\n",
    "arr2d = np.arange(1, 10).reshape(3, 3)\n",
    "print(\"\\n2D Array:\\n\", arr2d)\n",
    "\n",
    "# Creating a 3D array with random floating-point numbers (3, 5, 3)\n",
    "arr3d = np.random.rand(3, 5, 3)\n",
    "print(\"\\n3D Array:\\n\", arr3d)\n",
    "\n",
    "# Displaying shape, size, and dtype of each\n",
    "print(\"\\nShapes:\", arr1d.shape, arr2d.shape, arr3d.shape)\n",
    "print(\"Sizes:\", arr1d.size, arr2d.size, arr3d.size)\n",
    "print(\"Data Types:\", arr1d.dtype, arr2d.dtype, arr3d.dtype)\n"
   ]
  },
  {
   "cell_type": "markdown",
   "id": "eb7a13f1",
   "metadata": {},
   "source": [
    "## Task 2: Array Indexing and Slicing"
   ]
  },
  {
   "cell_type": "code",
   "execution_count": null,
   "id": "1d9738ff",
   "metadata": {},
   "outputs": [
    {
     "name": "stdout",
     "output_type": "stream",
     "text": [
      "First 3 elements: [10 20 30]\n",
      "Alternate elements: [10 30 50 70 90]\n",
      "Reversed array: [90 80 70 60 50 40 30 20 10]\n"
     ]
    }
   ],
   "source": [
    "\n",
    "arr = np.array([10, 20, 30, 40, 50, 60, 70, 80, 90])\n",
    "\n",
    "# First three elements\n",
    "print(\"First 3 elements:\", arr[:3])\n",
    "\n",
    "# Alternate elements\n",
    "print(\"Alternate elements:\", arr[::2])\n",
    "\n",
    "# Array Reverse\n",
    "print(\"Reversed array:\", arr[::-1])\n"
   ]
  },
  {
   "cell_type": "markdown",
   "id": "3881ce59",
   "metadata": {},
   "source": [
    "## Task 3: Mathematical Operations"
   ]
  },
  {
   "cell_type": "code",
   "execution_count": null,
   "id": "ff3764be",
   "metadata": {},
   "outputs": [
    {
     "name": "stdout",
     "output_type": "stream",
     "text": [
      "Array A: [ 7  9 20 11  9]\n",
      "Array B: [ 3  1  2  3 20]\n",
      "\n",
      "Addition: [10 10 22 14 29]\n",
      "Subtraction: [  4   8  18   8 -11]\n",
      "Multiplication: [ 21   9  40  33 180]\n",
      "Division: [ 2.33333333  9.         10.          3.66666667  0.45      ]\n",
      "\n",
      "Dot Product: 283\n",
      "\n",
      "Mean of A: 11.2\n",
      "Median of A: 9.0\n",
      "Std Dev of A: 4.578209256903839\n",
      "Variance of A: 20.96\n",
      "\n",
      "Max of B: 20 at index 4\n",
      "Min of B: 1 at index 1\n"
     ]
    }
   ],
   "source": [
    "\n",
    "# Random integers between 1 and 20\n",
    "A = np.random.randint(1, 21, 5)\n",
    "B = np.random.randint(1, 21, 5)\n",
    "\n",
    "print(\"Array A:\", A)\n",
    "print(\"Array B:\", B)\n",
    "\n",
    "# Arithmetic Operations on Elements\n",
    "print(\"\\nAddition:\", A + B)\n",
    "print(\"Subtraction:\", A - B)\n",
    "print(\"Multiplication:\", A * B)\n",
    "print(\"Division:\", A / B)\n",
    "\n",
    "# Dot product\n",
    "dot_product = np.dot(A, B)\n",
    "print(\"\\nDot Product:\", dot_product)\n",
    "\n",
    "# Stats for A\n",
    "print(\"\\nMean of A is:\", np.mean(A))\n",
    "print(\"Median of A is:\", np.median(A))\n",
    "print(\"Std Dev of A is:\", np.std(A))\n",
    "print(\"Variance of A is:\", np.var(A))\n",
    "\n",
    "# Max and Min of B\n",
    "print(\"\\nMax of B is:\", np.max(B), \"at index\", np.argmax(B))\n",
    "print(\"Min of B is:\", np.min(B), \"at index\", np.argmin(B))\n"
   ]
  },
  {
   "cell_type": "markdown",
   "id": "7d5cf4bf",
   "metadata": {},
   "source": [
    "## Task 4: Reshaping and Transposing"
   ]
  },
  {
   "cell_type": "code",
   "execution_count": null,
   "id": "7225f466",
   "metadata": {},
   "outputs": [
    {
     "name": "stdout",
     "output_type": "stream",
     "text": [
      "2D Reshaped (4x3):\n",
      " [[ 1  2  3]\n",
      " [ 4  5  6]\n",
      " [ 7  8  9]\n",
      " [10 11 12]]\n",
      "\n",
      "3D Reshaped (2x2x3):\n",
      " [[[ 1  2  3]\n",
      "  [ 4  5  6]]\n",
      "\n",
      " [[ 7  8  9]\n",
      "  [10 11 12]]]\n",
      "\n",
      "Transposed 2D Array:\n",
      " [[ 1  4  7 10]\n",
      " [ 2  5  8 11]\n",
      " [ 3  6  9 12]]\n",
      "New shape: (3, 4)\n"
     ]
    }
   ],
   "source": [
    "\n",
    "arr = np.arange(1, 13)\n",
    "\n",
    "# Reshape to (4, 3)\n",
    "arr2d = arr.reshape(4, 3)\n",
    "print(\"2D Reshaped (4x3):\\n\", arr2d)\n",
    "\n",
    "# Reshape to (2, 2, 3)\n",
    "arr3d = arr.reshape(2, 2, 3)\n",
    "print(\"\\n3D Reshaped (2x2x3):\\n\", arr3d)\n",
    "\n",
    "# Transpose 2D array\n",
    "transposed = arr2d.T\n",
    "print(\"\\nTransposed 2D Array:\\n\", transposed)\n",
    "print(\"New shape:\", transposed.shape)\n"
   ]
  },
  {
   "cell_type": "markdown",
   "id": "223f6806",
   "metadata": {},
   "source": [
    "## Task 5: Boolean Masking and Filtering"
   ]
  },
  {
   "cell_type": "code",
   "execution_count": null,
   "id": "c80073ec",
   "metadata": {},
   "outputs": [
    {
     "name": "stdout",
     "output_type": "stream",
     "text": [
      "Original Array:\n",
      " [11 30 46 27 22 48 18 21 30 19 17 48 15 48 15]\n",
      "\n",
      "> 25:\n",
      " [30 46 27 48 30 48 48]\n",
      "\n",
      "< 30 replaced with 0:\n",
      " [ 0 30 46  0  0 48  0  0 30  0  0 48  0 48  0]\n",
      "\n",
      "Count divisible by 5: 4\n"
     ]
    }
   ],
   "source": [
    "\n",
    "arr = np.random.randint(10, 51, 15)\n",
    "print(\"Original Array:\\n\", arr)\n",
    "\n",
    "# Elements greater than 25\n",
    "greater_than_25 = arr[arr > 25]\n",
    "print(\"\\n> 25:\\n\", greater_than_25)\n",
    "\n",
    "# Replace elements < 30 with 0\n",
    "arr_modified = np.where(arr < 30, 0, arr)\n",
    "print(\"\\n< 30 replaced with 0:\\n\", arr_modified)\n",
    "\n",
    "# Count elements divisible by 5\n",
    "count_div_5 = np.sum(arr % 5 == 0)\n",
    "print(\"\\nCount divisible by 5:\", count_div_5)\n"
   ]
  },
  {
   "cell_type": "markdown",
   "id": "35f4e195",
   "metadata": {},
   "source": [
    "## Task 6: Built-in Functions"
   ]
  },
  {
   "cell_type": "code",
   "execution_count": null,
   "id": "07ba0543",
   "metadata": {},
   "outputs": [
    {
     "name": "stdout",
     "output_type": "stream",
     "text": [
      "Equally spaced (0 to 1):\n",
      " [0.         0.11111111 0.22222222 0.33333333 0.44444444 0.55555556\n",
      " 0.66666667 0.77777778 0.88888889 1.        ]\n",
      "\n",
      "4x4 Identity Matrix:\n",
      " [[1. 0. 0. 0.]\n",
      " [0. 1. 0. 0.]\n",
      " [0. 0. 1. 0.]\n",
      " [0. 0. 0. 1.]]\n",
      "\n",
      "Sorted array:\n",
      " [ 6  8 12 14 18 23 30 33 33 37 44 49 50 57 70 75 76 79 91 97]\n",
      "Top 5 values: [75 76 79 91 97]\n"
     ]
    }
   ],
   "source": [
    "\n",
    "# Equally spaced values\n",
    "equally_spaced = np.linspace(0, 1, 10)\n",
    "print(\"Equally spaced (0 to 1):\\n\", equally_spaced)\n",
    "\n",
    "# Identity matrix\n",
    "identity_matrix = np.eye(4)\n",
    "print(\"\\n4x4 Identity Matrix:\\n\", identity_matrix)\n",
    "\n",
    "# Random integers, sorted, top 5\n",
    "random_vals = np.random.randint(1, 101, 20)\n",
    "sorted_vals = np.sort(random_vals)\n",
    "top_5 = sorted_vals[-5:]\n",
    "print(\"\\nSorted array:\\n\", sorted_vals)\n",
    "print(\"Top 5 values:\", top_5)\n"
   ]
  },
  {
   "cell_type": "markdown",
   "id": "196e8f6f",
   "metadata": {},
   "source": [
    "## Task 7: Generic Performance Task"
   ]
  },
  {
   "cell_type": "code",
   "execution_count": null,
   "id": "360c83ad",
   "metadata": {},
   "outputs": [
    {
     "name": "stdout",
     "output_type": "stream",
     "text": [
      "Inverse calculated.\n",
      "Time taken: 0.09084057807922363 seconds\n",
      "Determinant: 7.205204975213102e+50\n"
     ]
    }
   ],
   "source": [
    "\n",
    "import time\n",
    "\n",
    "# Two large random arrays\n",
    "A = np.random.rand(100, 100)\n",
    "B = np.random.rand(100, 100)\n",
    "\n",
    "start = time.time()\n",
    "# Matrix multiplication\n",
    "C = np.matmul(A, B)\n",
    "\n",
    "# Determinant\n",
    "det = np.linalg.det(C)\n",
    "\n",
    "# Inverse (check if invertible)\n",
    "try:\n",
    "    inv = np.linalg.inv(C)\n",
    "    print(\"Inverse calculated.\")\n",
    "except np.linalg.LinAlgError:\n",
    "    print(\"Matrix not invertible.\")\n",
    "\n",
    "end = time.time()\n",
    "\n",
    "print(\"Time taken:\", end - start, \"seconds\")\n",
    "print(\"Determinant:\", det)\n"
   ]
  },
  {
   "cell_type": "markdown",
   "id": "987b11e5",
   "metadata": {},
   "source": [
    "# Part 3: Pandas Solutions\n",
    "\n",
    "## Task 1: Working with Series"
   ]
  },
  {
   "cell_type": "code",
   "execution_count": null,
   "id": "58d24e43",
   "metadata": {},
   "outputs": [
    {
     "name": "stdout",
     "output_type": "stream",
     "text": [
      "First 3 elements: A    25\n",
      "B    30\n",
      "C    35\n",
      "dtype: int64\n",
      "Mean: 35.0\n",
      "Median: 35.0\n",
      "Standard Deviation: 7.905694150420948\n"
     ]
    }
   ],
   "source": [
    "\n",
    "import pandas as pd\n",
    "\n",
    "# Creating Series\n",
    "data = [25, 30, 35, 40, 45]\n",
    "series = pd.Series(data, index=['A', 'B', 'C', 'D', 'E'])\n",
    "\n",
    "# Displaying first 3 elements\n",
    "print(\"First 3 elements:\", series.head(3))\n",
    "\n",
    "# Mean, Median, Std Dev\n",
    "print(\"Mean:\", series.mean())\n",
    "print(\"Median:\", series.median())\n",
    "print(\"Standard Deviation:\", series.std())\n"
   ]
  },
  {
   "cell_type": "markdown",
   "id": "b6acce68",
   "metadata": {},
   "source": [
    "## Task 2: Creating and Inspecting DataFrames"
   ]
  },
  {
   "cell_type": "code",
   "execution_count": null,
   "id": "e7353472",
   "metadata": {},
   "outputs": [
    {
     "name": "stdout",
     "output_type": "stream",
     "text": [
      "First 2 rows:     Name  Age  Gender  Marks\n",
      "0  Alice   20  Female     85\n",
      "1    Bob   22    Male     78\n",
      "Column Names: ['Name', 'Age', 'Gender', 'Marks']\n",
      "Data Types: Name      object\n",
      "Age        int64\n",
      "Gender    object\n",
      "Marks      int64\n",
      "dtype: object\n",
      "Summary Stats:              Age      Marks\n",
      "count   5.000000   5.000000\n",
      "mean   20.400000  83.400000\n",
      "std     1.140175   7.334848\n",
      "min    19.000000  74.000000\n",
      "25%    20.000000  78.000000\n",
      "50%    20.000000  85.000000\n",
      "75%    21.000000  88.000000\n",
      "max    22.000000  92.000000\n",
      "DataFrame with 'Passed' column:     Name  Age  Gender  Marks  Passed\n",
      "0  Alice   20  Female     85    True\n",
      "1    Bob   22    Male     78   False\n",
      "2  Carol   19  Female     92    True\n",
      "3  David   21    Male     74   False\n",
      "4    Eve   20  Female     88    True\n"
     ]
    }
   ],
   "source": [
    "\n",
    "# Creating the DataFrame\n",
    "df = pd.DataFrame({\n",
    "    'Name': ['Alice', 'Bob', 'Carol', 'David', 'Eve'],\n",
    "    'Age': [20, 22, 19, 21, 20],\n",
    "    'Gender': ['Female', 'Male', 'Female', 'Male', 'Female'],\n",
    "    'Marks': [85, 78, 92, 74, 88]\n",
    "})\n",
    "\n",
    "# First 2 rows\n",
    "print(\"First 2 rows:\", df.head(2))\n",
    "\n",
    "# Column info\n",
    "print(\"Column Names:\", df.columns.tolist())\n",
    "print(\"Data Types:\", df.dtypes)\n",
    "print(\"Summary Stats:\", df.describe())\n",
    "\n",
    "# Adding 'Passed' column\n",
    "df['Passed'] = df['Marks'] >= 80\n",
    "print(\"DataFrame with 'Passed' column:\", df)\n"
   ]
  },
  {
   "cell_type": "markdown",
   "id": "da1b3346",
   "metadata": {},
   "source": [
    "## Task 3: Data Selection and Filtering"
   ]
  },
  {
   "cell_type": "code",
   "execution_count": null,
   "id": "fb9208ee",
   "metadata": {},
   "outputs": [
    {
     "name": "stdout",
     "output_type": "stream",
     "text": [
      "Name and Marks:     Name  Marks\n",
      "0  Alice     85\n",
      "1    Bob     78\n",
      "2  Carol     92\n",
      "3  David     74\n",
      "4    Eve     88\n",
      "Marks > 80:     Name  Age  Gender  Marks  Passed\n",
      "0  Alice   20  Female     85    True\n",
      "2  Carol   19  Female     92    True\n",
      "4    Eve   20  Female     88    True\n",
      "Student with Highest Marks:     Name  Age  Gender  Marks  Passed\n",
      "2  Carol   19  Female     92    True\n"
     ]
    }
   ],
   "source": [
    "\n",
    "# Selecting Name and Marks columns\n",
    "print(\"Name and Marks:\", df[['Name', 'Marks']])\n",
    "\n",
    "# Students with marks > 80\n",
    "print(\"Marks > 80:\", df[df['Marks'] > 80])\n",
    "\n",
    "# Student with highest marks\n",
    "highest = df[df['Marks'] == df['Marks'].max()]\n",
    "print(\"Student with Highest Marks:\", highest)\n"
   ]
  },
  {
   "cell_type": "markdown",
   "id": "545d3e80",
   "metadata": {},
   "source": [
    "## Task 4: Handling Missing Data"
   ]
  },
  {
   "cell_type": "code",
   "execution_count": null,
   "id": "e3220885",
   "metadata": {},
   "outputs": [
    {
     "name": "stdout",
     "output_type": "stream",
     "text": [
      "Missing values:\n",
      "     Name    Age  Gender  Marks  Passed\n",
      "0  False  False   False  False   False\n",
      "1  False  False   False   True   False\n",
      "2  False  False   False  False   False\n",
      "3  False  False   False  False   False\n",
      "4  False   True   False  False   False\n",
      "\n",
      "Cleaned DataFrame:\n",
      "     Name   Age  Gender  Marks  Passed\n",
      "0  Alice  20.0  Female  85.00    True\n",
      "1    Bob  22.0    Male  84.75   False\n",
      "2  Carol  19.0  Female  92.00    True\n",
      "3  David  21.0    Male  74.00   False\n"
     ]
    }
   ],
   "source": [
    "# Introducing missing values\n",
    "df.loc[1, 'Marks'] = None\n",
    "df.loc[4, 'Age'] = None\n",
    "\n",
    "# Identify missing values\n",
    "print(\"Missing values:\\n\", df.isnull())\n",
    "\n",
    "# Fill missing Marks with mean (safe method)\n",
    "df['Marks'] = df['Marks'].fillna(df['Marks'].mean())\n",
    "\n",
    "# Drop rows with missing Age\n",
    "df_cleaned = df.dropna(subset=['Age'])\n",
    "\n",
    "print(\"\\nCleaned DataFrame:\\n\", df_cleaned)\n"
   ]
  },
  {
   "cell_type": "markdown",
   "id": "c88a307b",
   "metadata": {},
   "source": [
    "## Task 5: Grouping and Aggregation"
   ]
  },
  {
   "cell_type": "code",
   "execution_count": null,
   "id": "24b7b351",
   "metadata": {},
   "outputs": [
    {
     "name": "stdout",
     "output_type": "stream",
     "text": [
      "Mean Age and Marks by Gender:          Age      Marks\n",
      "Gender                 \n",
      "Female  19.5  88.333333\n",
      "Male    21.5  79.375000\n",
      "Student count by Gender: Gender\n",
      "Female    3\n",
      "Male      2\n",
      "Name: count, dtype: int64\n"
     ]
    }
   ],
   "source": [
    "\n",
    "# Grouping by Gender and calculating means\n",
    "grouped_mean = df.groupby('Gender')[['Age', 'Marks']].mean()\n",
    "print(\"Mean Age and Marks by Gender:\", grouped_mean)\n",
    "\n",
    "# Count of students in each gender\n",
    "gender_counts = df['Gender'].value_counts()\n",
    "print(\"Student count by Gender:\", gender_counts)\n"
   ]
  },
  {
   "cell_type": "markdown",
   "id": "5b2ef595",
   "metadata": {},
   "source": [
    "## Task 6: Reading and Writing Data"
   ]
  },
  {
   "cell_type": "code",
   "execution_count": null,
   "id": "39764e4a",
   "metadata": {},
   "outputs": [
    {
     "name": "stdout",
     "output_type": "stream",
     "text": [
      "First 5 rows from CSV:     Name   Age  Gender  Marks  Passed\n",
      "0  Alice  20.0  Female  85.00    True\n",
      "1    Bob  22.0    Male  84.75   False\n",
      "2  Carol  19.0  Female  92.00    True\n",
      "3  David  21.0    Male  74.00   False\n",
      "4    Eve   NaN  Female  88.00    True\n"
     ]
    }
   ],
   "source": [
    "\n",
    "# Saving to CSV\n",
    "df.to_csv(\"students_data.csv\", index=False)\n",
    "\n",
    "# Reading it back\n",
    "df_new = pd.read_csv(\"students_data.csv\")\n",
    "print(\"First 5 rows from CSV:\", df_new.head())\n"
   ]
  },
  {
   "cell_type": "markdown",
   "id": "7b172a27",
   "metadata": {},
   "source": [
    "## Task 7: General EDA with Public Dataset"
   ]
  },
  {
   "cell_type": "code",
   "execution_count": null,
   "id": "c7278268",
   "metadata": {},
   "outputs": [
    {
     "name": "stdout",
     "output_type": "stream",
     "text": [
      "Dataset Overview:    total_bill   tip     sex smoker  day    time  size\n",
      "0       16.99  1.01  Female     No  Sun  Dinner     2\n",
      "1       10.34  1.66    Male     No  Sun  Dinner     3\n",
      "2       21.01  3.50    Male     No  Sun  Dinner     3\n",
      "3       23.68  3.31    Male     No  Sun  Dinner     2\n",
      "4       24.59  3.61  Female     No  Sun  Dinner     4\n",
      "Summary:        total_bill         tip        size\n",
      "count  244.000000  244.000000  244.000000\n",
      "mean    19.785943    2.998279    2.569672\n",
      "std      8.902412    1.383638    0.951100\n",
      "min      3.070000    1.000000    1.000000\n",
      "25%     13.347500    2.000000    2.000000\n",
      "50%     17.795000    2.900000    2.000000\n",
      "75%     24.127500    3.562500    3.000000\n",
      "max     50.810000   10.000000    6.000000\n",
      "Missing Values: total_bill    0\n",
      "tip           0\n",
      "sex           0\n",
      "smoker        0\n",
      "day           0\n",
      "time          0\n",
      "size          0\n",
      "dtype: int64\n"
     ]
    },
    {
     "data": {
      "image/png": "[encoded data removed]",
      "text/plain": [
       "<Figure size 600x400 with 1 Axes>"
      ]
     },
     "metadata": {},
     "output_type": "display_data"
    }
   ],
   "source": [
    "\n",
    "# Using seaborn's built-in dataset for demo\n",
    "import seaborn as sns\n",
    "import matplotlib.pyplot as plt\n",
    "\n",
    "# Load dataset\n",
    "tips = sns.load_dataset(\"tips\")\n",
    "print(\"Dataset Overview:\", tips.head())\n",
    "\n",
    "# Summary stats\n",
    "print(\"Summary:\", tips.describe())\n",
    "\n",
    "# Missing values\n",
    "print(\"Missing Values:\", tips.isnull().sum())\n",
    "\n",
    "# Visualization - Total bill distribution\n",
    "plt.figure(figsize=(6, 4))\n",
    "sns.histplot(tips['total_bill'], kde=True)\n",
    "plt.title(\"Distribution of Total Bill\")\n",
    "plt.xlabel(\"Total Bill\")\n",
    "plt.ylabel(\"Frequency\")\n",
    "plt.show()"
   ]
  }
 ],
 "metadata": {
  "kernelspec": {
   "display_name": "Python 3",
   "language": "python",
   "name": "python3"
  },
  "language_info": {
   "codemirror_mode": {
    "name": "ipython",
    "version": 3
   },
   "file_extension": ".py",
   "mimetype": "text/x-python",
   "name": "python",
   "nbconvert_exporter": "python",
   "pygments_lexer": "ipython3",
   "version": "3.12.2"
  }
 },
 "nbformat": 4,
 "nbformat_minor": 5
}
